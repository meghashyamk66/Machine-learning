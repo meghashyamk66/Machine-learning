{
 "cells": [
  {
   "cell_type": "code",
   "execution_count": 1,
   "id": "42b9455c",
   "metadata": {},
   "outputs": [
    {
     "name": "stdout",
     "output_type": "stream",
     "text": [
      "yes    0.642857\n",
      "no     0.357143\n",
      "Name: buys_computer, dtype: float64\n"
     ]
    }
   ],
   "source": [
    " 'A1'\n",
    "import pandas as pd\n",
    "data = {\n",
    "    'age': ['<=30', '<=30', '31…40', '>40', '>40', '>40', '31…40', '<=30', '<=30', '>40', '<=30', '31…40', '31…40','>40'],\n",
    "    'income': ['high', 'high', 'high', 'medium', 'low', 'low', 'low', 'medium', 'low', 'medium', 'medium', 'medium','high', 'medium'],\n",
    "    'student': ['no', 'no', 'no', 'no', 'yes', 'yes', 'yes', 'no', 'yes', 'yes', 'yes', 'no', 'yes','no'],\n",
    "    'credit_rating': ['fair', 'excellent', 'fair', 'fair', 'fair', 'excellent', 'excellent', 'fair', 'fair', 'fair', 'excellent', 'excellent', 'fair','execellent'],\n",
    "    'buys_computer': ['no', 'no', 'yes', 'yes', 'yes', 'no', 'yes', 'no', 'yes', 'yes', 'yes', 'yes', 'yes', 'no',]\n",
    "}\n",
    "df = pd.DataFrame(data)\n",
    "prior_probabilities = df['buys_computer'].value_counts(normalize=True)\n",
    "print(prior_probabilities)"
   ]
  },
  {
   "cell_type": "code",
   "execution_count": 2,
   "id": "a3ac1cb1",
   "metadata": {},
   "outputs": [
    {
     "name": "stdout",
     "output_type": "stream",
     "text": [
      "\n",
      "Class-conditional density for 'age':\n",
      "buys_computer  age  \n",
      "no             <=30     0.600000\n",
      "               >40      0.400000\n",
      "yes            31…40    0.444444\n",
      "               <=30     0.222222\n",
      "               >40      0.333333\n",
      "dtype: float64\n",
      "\n",
      "Class-conditional density for 'income':\n",
      "buys_computer  income\n",
      "no             high      0.400000\n",
      "               low       0.200000\n",
      "               medium    0.400000\n",
      "yes            high      0.222222\n",
      "               low       0.333333\n",
      "               medium    0.444444\n",
      "dtype: float64\n",
      "\n",
      "Class-conditional density for 'student':\n",
      "buys_computer  student\n",
      "no             no         0.800000\n",
      "               yes        0.200000\n",
      "yes            no         0.333333\n",
      "               yes        0.666667\n",
      "dtype: float64\n",
      "\n",
      "Class-conditional density for 'credit_rating':\n",
      "buys_computer  credit_rating\n",
      "no             excellent        0.600000\n",
      "               fair             0.400000\n",
      "yes            excellent        0.333333\n",
      "               fair             0.666667\n",
      "dtype: float64\n"
     ]
    }
   ],
   "source": [
    "import pandas as pd\n",
    "data = {\n",
    "    'age': ['<=30', '<=30', '31…40', '>40', '>40', '>40', '31…40', '<=30', '<=30', '>40', '<=30', '31…40', '31…40', '>40'],\n",
    "    'income': ['high', 'high', 'high', 'medium', 'low', 'low', 'low', 'medium', 'low', 'medium', 'medium', 'medium', 'high', 'medium'],\n",
    "    'student': ['no', 'no', 'no', 'no', 'yes', 'yes', 'yes', 'no', 'yes', 'yes', 'yes', 'no', 'yes', 'no'],\n",
    "    'credit_rating': ['fair', 'excellent', 'fair', 'fair', 'fair', 'excellent', 'excellent', 'fair', 'fair', 'fair', 'excellent', 'excellent', 'fair', 'excellent'],\n",
    "    'buys_computer': ['no', 'no', 'yes', 'yes', 'yes', 'no', 'yes', 'no', 'yes', 'yes', 'yes', 'yes', 'yes', 'no']\n",
    "}\n",
    "df = pd.DataFrame(data)\n",
    "class_conditional_densities = {}\n",
    "for feature in df.columns[:-1]:  \n",
    "    class_conditional_densities[feature] = df.groupby(['buys_computer', feature]).size() / df.groupby('buys_computer').size()\n",
    "for feature, density in class_conditional_densities.items():\n",
    "    print(f\"\\nClass-conditional density for '{feature}':\\n{density}\")"
   ]
  },
  {
   "cell_type": "code",
   "execution_count": 3,
   "id": "e997126f",
   "metadata": {},
   "outputs": [
    {
     "name": "stdout",
     "output_type": "stream",
     "text": [
      "Chi-squared test for independence between 'age' and 'income':\n",
      "Chi-squared statistic: 3.3249999999999997\n",
      "P-value: 0.5049810026322079\n",
      "\n",
      "Chi-squared test for independence between 'age' and 'student':\n",
      "Chi-squared statistic: 0.4\n",
      "P-value: 0.8187307530779818\n",
      "\n",
      "Chi-squared test for independence between 'age' and 'credit_rating':\n",
      "Chi-squared statistic: 0.11666666666666664\n",
      "P-value: 0.9433354498734922\n",
      "\n",
      "Chi-squared test for independence between 'income' and 'student':\n",
      "Chi-squared statistic: 5.666666666666666\n",
      "P-value: 0.05881647164242991\n",
      "\n",
      "Chi-squared test for independence between 'income' and 'credit_rating':\n",
      "Chi-squared statistic: 0.7291666666666666\n",
      "P-value: 0.6944859597510076\n",
      "\n",
      "Chi-squared test for independence between 'student' and 'credit_rating':\n",
      "Chi-squared statistic: 0.0\n",
      "P-value: 1.0\n",
      "\n"
     ]
    }
   ],
   "source": [
    "'A3'\n",
    "\n",
    "import pandas as pd\n",
    "from scipy.stats import chi2_contingency\n",
    "data = {\n",
    "    'age': ['<=30', '<=30', '31…40', '>40', '>40', '>40', '31…40', '<=30', '<=30', '>40', '<=30', '31…40', '31…40', '>40'],\n",
    "    'income': ['high', 'high', 'high', 'medium', 'low', 'low', 'low', 'medium', 'low', 'medium', 'medium', 'medium', 'high', 'medium'],\n",
    "    'student': ['no', 'no', 'no', 'no', 'yes', 'yes', 'yes', 'no', 'yes', 'yes', 'yes', 'no', 'yes', 'no'],\n",
    "    'credit_rating': ['fair', 'excellent', 'fair', 'fair', 'fair', 'excellent', 'excellent', 'fair', 'fair', 'fair', 'excellent', 'excellent', 'fair', 'excellent'],\n",
    "    'buys_computer': ['no', 'no', 'yes', 'yes', 'yes', 'no', 'yes', 'no', 'yes', 'yes', 'yes', 'yes', 'yes', 'no']\n",
    "}\n",
    "df = pd.DataFrame(data)\n",
    "features_to_test = ['age', 'income', 'student', 'credit_rating']\n",
    "for i in range(len(features_to_test) - 1):\n",
    "    for j in range(i + 1, len(features_to_test)):\n",
    "        contingency_table = pd.crosstab(df[features_to_test[i]], df[features_to_test[j]])\n",
    "        chi2, p, _, _ = chi2_contingency(contingency_table)\n",
    "        print(f\"Chi-squared test for independence between '{features_to_test[i]}' and '{features_to_test[j]}':\")\n",
    "        print(f\"Chi-squared statistic: {chi2}\")\n",
    "        print(f\"P-value: {p}\")\n",
    "        print(\"\")"
   ]
  },
  {
   "cell_type": "code",
   "execution_count": 4,
   "id": "ea6d8b31",
   "metadata": {},
   "outputs": [
    {
     "name": "stdout",
     "output_type": "stream",
     "text": [
      "Accuracy: 0.67\n",
      "Classification Report:\n",
      "              precision    recall  f1-score   support\n",
      "\n",
      "          no       0.50      1.00      0.67         1\n",
      "         yes       1.00      0.50      0.67         2\n",
      "\n",
      "    accuracy                           0.67         3\n",
      "   macro avg       0.75      0.75      0.67         3\n",
      "weighted avg       0.83      0.67      0.67         3\n",
      "\n"
     ]
    }
   ],
   "source": [
    "import pandas as pd\n",
    "from sklearn.model_selection import train_test_split\n",
    "from sklearn.naive_bayes import GaussianNB\n",
    "from sklearn.metrics import accuracy_score, classification_report\n",
    "data = {\n",
    "    'age': ['<=30', '<=30', '31…40', '>40', '>40', '>40', '31…40', '<=30', '<=30', '>40', '<=30', '31…40', '31…40', '>40'],\n",
    "    'income': ['high', 'high', 'high', 'medium', 'low', 'low', 'low', 'medium', 'low', 'medium', 'medium', 'medium', 'high', 'medium'],\n",
    "    'student': ['no', 'no', 'no', 'no', 'yes', 'yes', 'yes', 'no', 'yes', 'yes', 'yes', 'no', 'yes', 'no'],\n",
    "    'credit_rating': ['fair', 'excellent', 'fair', 'fair', 'fair', 'excellent', 'excellent', 'fair', 'fair', 'fair', 'excellent', 'excellent', 'fair', 'excellent'],\n",
    "    'buys_computer': ['no', 'no', 'yes', 'yes', 'yes', 'no', 'yes', 'no', 'yes', 'yes', 'yes', 'yes', 'yes', 'no']\n",
    "}\n",
    "\n",
    "df = pd.DataFrame(data)\n",
    "df_encoded = pd.get_dummies(df.iloc[:, :-1])\n",
    "X = df_encoded\n",
    "y = df['buys_computer']\n",
    "Tr_X, Te_X, Tr_y, Te_y = train_test_split(X, y, test_size=0.2, random_state=42)\n",
    "model = GaussianNB()\n",
    "model.fit(Tr_X, Tr_y)\n",
    "predictions = model.predict(Te_X)\n",
    "accuracy = accuracy_score(Te_y, predictions)\n",
    "classification_report_str = classification_report(Te_y, predictions)\n",
    "print(f\"Accuracy: {accuracy:.2f}\")\n",
    "print(\"Classification Report:\")\n",
    "print(classification_report_str)"
   ]
  },
  {
   "cell_type": "code",
   "execution_count": null,
   "id": "d7435c1d",
   "metadata": {},
   "outputs": [],
   "source": []
  }
 ],
 "metadata": {
  "kernelspec": {
   "display_name": "Python 3 (ipykernel)",
   "language": "python",
   "name": "python3"
  },
  "language_info": {
   "codemirror_mode": {
    "name": "ipython",
    "version": 3
   },
   "file_extension": ".py",
   "mimetype": "text/x-python",
   "name": "python",
   "nbconvert_exporter": "python",
   "pygments_lexer": "ipython3",
   "version": "3.11.4"
  }
 },
 "nbformat": 4,
 "nbformat_minor": 5
}
